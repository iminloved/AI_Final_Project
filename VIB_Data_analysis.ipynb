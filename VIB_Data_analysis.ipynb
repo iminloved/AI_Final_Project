{
 "cells": [
  {
   "cell_type": "code",
   "execution_count": 1,
   "id": "simple-noise",
   "metadata": {},
   "outputs": [],
   "source": [
    "import pandas as pd"
   ]
  },
  {
   "cell_type": "code",
   "execution_count": 2,
   "id": "heard-wagner",
   "metadata": {},
   "outputs": [
    {
     "name": "stderr",
     "output_type": "stream",
     "text": [
      "c:\\users\\x\\appdata\\local\\programs\\python\\python39\\lib\\site-packages\\IPython\\core\\interactiveshell.py:3155: DtypeWarning: Columns (5,6,7,8) have mixed types.Specify dtype option on import or set low_memory=False.\n",
      "  has_raised = await self.run_ast_nodes(code_ast.body, cell_name,\n"
     ]
    }
   ],
   "source": [
    "df_customer = pd.read_csv('1.Data_Customer.csv')\n",
    "df_transaction = pd.read_csv('2.Data_MyVIB_Transaction.csv')\n",
    "df_activities = pd.read_csv('3.Data_MyVIB_Activity.csv')\n",
    "df_deposit = pd.read_csv('4.Data_Deposit.csv')\n",
    "df_lending = pd.read_csv('5.Data_Lending.csv')\n",
    "df_card = pd.read_csv('6.Data_Card.csv')"
   ]
  },
  {
   "cell_type": "code",
   "execution_count": 3,
   "id": "streaming-victorian",
   "metadata": {
    "scrolled": true
   },
   "outputs": [
    {
     "name": "stdout",
     "output_type": "stream",
     "text": [
      "   CUSTOMER_NUMBER CLIENT_SEX CLIENT_CREATE_DATE        DATE_OF_BIRTH  \\\n",
      "0           639362          M         2019-04-23  1996-01-01 00:00:00   \n",
      "1           452440          M         2019-01-11  1999-10-10 00:00:00   \n",
      "2           326290          F         2019-05-27  1996-06-29 00:00:00   \n",
      "3            20802          M         2019-11-12  1992-08-07 00:00:00   \n",
      "4           114244          M         2019-03-29  1973-10-15 00:00:00   \n",
      "\n",
      "  STAFF_VIB IB_REGISTER_DATE EB_REGISTER_CHANNEL SMS VERIFY_METHOD  \n",
      "0         N       2019-04-23              BRANCH   Y           SMS  \n",
      "1         N       2019-01-11              BRANCH   Y     SMART_OTP  \n",
      "2         N       2019-05-27              BRANCH   Y           SMS  \n",
      "3         N       2019-11-12              BRANCH   Y     SMART_OTP  \n",
      "4         N       2019-03-29              BRANCH   N           SMS  \n"
     ]
    }
   ],
   "source": [
    "print(df_customer.head())"
   ]
  },
  {
   "cell_type": "code",
   "execution_count": 4,
   "id": "studied-midnight",
   "metadata": {},
   "outputs": [],
   "source": [
    "# trích xuất tháng\n",
    "df_activities['MONTH']=pd.DatetimeIndex(df_activities['ACTIVITY_DATE']).month"
   ]
  },
  {
   "cell_type": "code",
   "execution_count": null,
   "id": "protected-orange",
   "metadata": {},
   "outputs": [],
   "source": []
  },
  {
   "cell_type": "code",
   "execution_count": 5,
   "id": "generic-playing",
   "metadata": {},
   "outputs": [
    {
     "name": "stdout",
     "output_type": "stream",
     "text": [
      "  ACTIVITY_DATE DAY_OF_WEEK  ACTIVITY_HOUR  ACTIVITY_NO  CUSTOMER_NUMBER  \\\n",
      "0     1/22/2019         Tue             20            2           630178   \n",
      "1     1/10/2019         Thu             18           16           630178   \n",
      "2     1/26/2019         Sat             17           15           630178   \n",
      "3      1/2/2019         Wed              9           27           630178   \n",
      "4     1/19/2019         Sat              8            3           630178   \n",
      "\n",
      "           ACTIVITY_NAME  MONTH  \n",
      "0  MB_INTEREST_RATE_VIEW      1  \n",
      "1  MB_INTEREST_RATE_VIEW      1  \n",
      "2  MB_INTEREST_RATE_VIEW      1  \n",
      "3  MB_INTEREST_RATE_VIEW      1  \n",
      "4  MB_INTEREST_RATE_VIEW      1  \n"
     ]
    }
   ],
   "source": [
    "print(df_activities.head())"
   ]
  },
  {
   "cell_type": "code",
   "execution_count": 6,
   "id": "located-amendment",
   "metadata": {},
   "outputs": [
    {
     "data": {
      "text/plain": [
       "array([ 1,  2,  3,  4,  5,  7,  8,  9, 10, 12, 11,  6], dtype=int64)"
      ]
     },
     "execution_count": 6,
     "metadata": {},
     "output_type": "execute_result"
    }
   ],
   "source": [
    "df_activities['MONTH'].unique()"
   ]
  },
  {
   "cell_type": "code",
   "execution_count": 9,
   "id": "eligible-wrist",
   "metadata": {},
   "outputs": [],
   "source": [
    "df_activities = df_activities.drop(columns = 'ACTIVITY_DATE')"
   ]
  },
  {
   "cell_type": "code",
   "execution_count": 10,
   "id": "upper-circular",
   "metadata": {},
   "outputs": [
    {
     "data": {
      "text/html": [
       "<div>\n",
       "<style scoped>\n",
       "    .dataframe tbody tr th:only-of-type {\n",
       "        vertical-align: middle;\n",
       "    }\n",
       "\n",
       "    .dataframe tbody tr th {\n",
       "        vertical-align: top;\n",
       "    }\n",
       "\n",
       "    .dataframe thead th {\n",
       "        text-align: right;\n",
       "    }\n",
       "</style>\n",
       "<table border=\"1\" class=\"dataframe\">\n",
       "  <thead>\n",
       "    <tr style=\"text-align: right;\">\n",
       "      <th></th>\n",
       "      <th>DAY_OF_WEEK</th>\n",
       "      <th>ACTIVITY_HOUR</th>\n",
       "      <th>ACTIVITY_NO</th>\n",
       "      <th>CUSTOMER_NUMBER</th>\n",
       "      <th>ACTIVITY_NAME</th>\n",
       "      <th>MONTH</th>\n",
       "    </tr>\n",
       "  </thead>\n",
       "  <tbody>\n",
       "    <tr>\n",
       "      <th>0</th>\n",
       "      <td>Tue</td>\n",
       "      <td>20</td>\n",
       "      <td>2</td>\n",
       "      <td>630178</td>\n",
       "      <td>MB_INTEREST_RATE_VIEW</td>\n",
       "      <td>1</td>\n",
       "    </tr>\n",
       "    <tr>\n",
       "      <th>1</th>\n",
       "      <td>Thu</td>\n",
       "      <td>18</td>\n",
       "      <td>16</td>\n",
       "      <td>630178</td>\n",
       "      <td>MB_INTEREST_RATE_VIEW</td>\n",
       "      <td>1</td>\n",
       "    </tr>\n",
       "    <tr>\n",
       "      <th>2</th>\n",
       "      <td>Sat</td>\n",
       "      <td>17</td>\n",
       "      <td>15</td>\n",
       "      <td>630178</td>\n",
       "      <td>MB_INTEREST_RATE_VIEW</td>\n",
       "      <td>1</td>\n",
       "    </tr>\n",
       "    <tr>\n",
       "      <th>3</th>\n",
       "      <td>Wed</td>\n",
       "      <td>9</td>\n",
       "      <td>27</td>\n",
       "      <td>630178</td>\n",
       "      <td>MB_INTEREST_RATE_VIEW</td>\n",
       "      <td>1</td>\n",
       "    </tr>\n",
       "    <tr>\n",
       "      <th>4</th>\n",
       "      <td>Sat</td>\n",
       "      <td>8</td>\n",
       "      <td>3</td>\n",
       "      <td>630178</td>\n",
       "      <td>MB_INTEREST_RATE_VIEW</td>\n",
       "      <td>1</td>\n",
       "    </tr>\n",
       "  </tbody>\n",
       "</table>\n",
       "</div>"
      ],
      "text/plain": [
       "  DAY_OF_WEEK  ACTIVITY_HOUR  ACTIVITY_NO  CUSTOMER_NUMBER  \\\n",
       "0         Tue             20            2           630178   \n",
       "1         Thu             18           16           630178   \n",
       "2         Sat             17           15           630178   \n",
       "3         Wed              9           27           630178   \n",
       "4         Sat              8            3           630178   \n",
       "\n",
       "           ACTIVITY_NAME  MONTH  \n",
       "0  MB_INTEREST_RATE_VIEW      1  \n",
       "1  MB_INTEREST_RATE_VIEW      1  \n",
       "2  MB_INTEREST_RATE_VIEW      1  \n",
       "3  MB_INTEREST_RATE_VIEW      1  \n",
       "4  MB_INTEREST_RATE_VIEW      1  "
      ]
     },
     "execution_count": 10,
     "metadata": {},
     "output_type": "execute_result"
    }
   ],
   "source": [
    "df_activities.head()"
   ]
  },
  {
   "cell_type": "code",
   "execution_count": 12,
   "id": "alone-hindu",
   "metadata": {},
   "outputs": [
    {
     "name": "stdout",
     "output_type": "stream",
     "text": [
      "MONTH  CUSTOMER_NUMBER\n",
      "1      456                 216\n",
      "       1063                 55\n",
      "       2293                140\n",
      "       3666                109\n",
      "       4245                 48\n",
      "                          ... \n",
      "12     999966               85\n",
      "       999969             1278\n",
      "       999972              630\n",
      "       999982              764\n",
      "       999996              187\n",
      "Name: ACTIVITY_HOUR, Length: 321669, dtype: int64\n"
     ]
    }
   ],
   "source": [
    "df_group_activity = df_activities.groupby(['MONTH','CUSTOMER_NUMBER'])['ACTIVITY_HOUR'].sum()\n",
    "print(df_group_activity)"
   ]
  },
  {
   "cell_type": "code",
   "execution_count": 13,
   "id": "satisfactory-focus",
   "metadata": {},
   "outputs": [
    {
     "data": {
      "text/html": [
       "<div>\n",
       "<style scoped>\n",
       "    .dataframe tbody tr th:only-of-type {\n",
       "        vertical-align: middle;\n",
       "    }\n",
       "\n",
       "    .dataframe tbody tr th {\n",
       "        vertical-align: top;\n",
       "    }\n",
       "\n",
       "    .dataframe thead th {\n",
       "        text-align: right;\n",
       "    }\n",
       "</style>\n",
       "<table border=\"1\" class=\"dataframe\">\n",
       "  <thead>\n",
       "    <tr style=\"text-align: right;\">\n",
       "      <th></th>\n",
       "      <th>TRANS_LV1</th>\n",
       "      <th>TRANS_LV2</th>\n",
       "      <th>TRANS_DATE</th>\n",
       "      <th>DAY_OF_WEEK</th>\n",
       "      <th>TRANS_HOUR</th>\n",
       "      <th>TRANS_NO</th>\n",
       "      <th>TRANS_AMOUNT</th>\n",
       "      <th>CUSTOMER_NUMBER</th>\n",
       "    </tr>\n",
       "  </thead>\n",
       "  <tbody>\n",
       "    <tr>\n",
       "      <th>0</th>\n",
       "      <td>Transfer</td>\n",
       "      <td>Outside_VIB</td>\n",
       "      <td>2019-01-03</td>\n",
       "      <td>Thu</td>\n",
       "      <td>17</td>\n",
       "      <td>2</td>\n",
       "      <td>189771864.0</td>\n",
       "      <td>701619</td>\n",
       "    </tr>\n",
       "    <tr>\n",
       "      <th>1</th>\n",
       "      <td>Transfer</td>\n",
       "      <td>Outside_VIB</td>\n",
       "      <td>2019-07-01</td>\n",
       "      <td>Mon</td>\n",
       "      <td>13</td>\n",
       "      <td>2</td>\n",
       "      <td>30224900.0</td>\n",
       "      <td>701619</td>\n",
       "    </tr>\n",
       "    <tr>\n",
       "      <th>2</th>\n",
       "      <td>Transfer</td>\n",
       "      <td>Outside_VIB</td>\n",
       "      <td>2019-01-02</td>\n",
       "      <td>Wed</td>\n",
       "      <td>15</td>\n",
       "      <td>1</td>\n",
       "      <td>100000.0</td>\n",
       "      <td>701619</td>\n",
       "    </tr>\n",
       "    <tr>\n",
       "      <th>3</th>\n",
       "      <td>Payment</td>\n",
       "      <td>Credit_card_repayment</td>\n",
       "      <td>2019-01-03</td>\n",
       "      <td>Thu</td>\n",
       "      <td>14</td>\n",
       "      <td>1</td>\n",
       "      <td>85000000.0</td>\n",
       "      <td>262123</td>\n",
       "    </tr>\n",
       "    <tr>\n",
       "      <th>4</th>\n",
       "      <td>Payment</td>\n",
       "      <td>Credit_card_repayment</td>\n",
       "      <td>2019-01-28</td>\n",
       "      <td>Mon</td>\n",
       "      <td>22</td>\n",
       "      <td>1</td>\n",
       "      <td>83000000.0</td>\n",
       "      <td>262123</td>\n",
       "    </tr>\n",
       "  </tbody>\n",
       "</table>\n",
       "</div>"
      ],
      "text/plain": [
       "  TRANS_LV1              TRANS_LV2  TRANS_DATE DAY_OF_WEEK  TRANS_HOUR  \\\n",
       "0  Transfer            Outside_VIB  2019-01-03         Thu          17   \n",
       "1  Transfer            Outside_VIB  2019-07-01         Mon          13   \n",
       "2  Transfer            Outside_VIB  2019-01-02         Wed          15   \n",
       "3   Payment  Credit_card_repayment  2019-01-03         Thu          14   \n",
       "4   Payment  Credit_card_repayment  2019-01-28         Mon          22   \n",
       "\n",
       "   TRANS_NO  TRANS_AMOUNT  CUSTOMER_NUMBER  \n",
       "0         2   189771864.0           701619  \n",
       "1         2    30224900.0           701619  \n",
       "2         1      100000.0           701619  \n",
       "3         1    85000000.0           262123  \n",
       "4         1    83000000.0           262123  "
      ]
     },
     "execution_count": 13,
     "metadata": {},
     "output_type": "execute_result"
    }
   ],
   "source": [
    "df_transaction.head()"
   ]
  },
  {
   "cell_type": "code",
   "execution_count": 14,
   "id": "moved-management",
   "metadata": {},
   "outputs": [],
   "source": [
    "# trích xuất tháng\n",
    "df_transaction['MONTH']=pd.DatetimeIndex(df_transaction['TRANS_DATE']).month"
   ]
  },
  {
   "cell_type": "code",
   "execution_count": 21,
   "id": "ultimate-dollar",
   "metadata": {},
   "outputs": [
    {
     "data": {
      "text/html": [
       "<div>\n",
       "<style scoped>\n",
       "    .dataframe tbody tr th:only-of-type {\n",
       "        vertical-align: middle;\n",
       "    }\n",
       "\n",
       "    .dataframe tbody tr th {\n",
       "        vertical-align: top;\n",
       "    }\n",
       "\n",
       "    .dataframe thead th {\n",
       "        text-align: right;\n",
       "    }\n",
       "</style>\n",
       "<table border=\"1\" class=\"dataframe\">\n",
       "  <thead>\n",
       "    <tr style=\"text-align: right;\">\n",
       "      <th></th>\n",
       "      <th>TRANS_LV1</th>\n",
       "      <th>TRANS_LV2</th>\n",
       "      <th>DAY_OF_WEEK</th>\n",
       "      <th>TRANS_HOUR</th>\n",
       "      <th>TRANS_NO</th>\n",
       "      <th>TRANS_AMOUNT</th>\n",
       "      <th>CUSTOMER_NUMBER</th>\n",
       "      <th>MONTH</th>\n",
       "    </tr>\n",
       "  </thead>\n",
       "  <tbody>\n",
       "    <tr>\n",
       "      <th>0</th>\n",
       "      <td>Transfer</td>\n",
       "      <td>Outside_VIB</td>\n",
       "      <td>Thu</td>\n",
       "      <td>17</td>\n",
       "      <td>2</td>\n",
       "      <td>189771864.0</td>\n",
       "      <td>701619</td>\n",
       "      <td>1</td>\n",
       "    </tr>\n",
       "    <tr>\n",
       "      <th>1</th>\n",
       "      <td>Transfer</td>\n",
       "      <td>Outside_VIB</td>\n",
       "      <td>Mon</td>\n",
       "      <td>13</td>\n",
       "      <td>2</td>\n",
       "      <td>30224900.0</td>\n",
       "      <td>701619</td>\n",
       "      <td>7</td>\n",
       "    </tr>\n",
       "    <tr>\n",
       "      <th>2</th>\n",
       "      <td>Transfer</td>\n",
       "      <td>Outside_VIB</td>\n",
       "      <td>Wed</td>\n",
       "      <td>15</td>\n",
       "      <td>1</td>\n",
       "      <td>100000.0</td>\n",
       "      <td>701619</td>\n",
       "      <td>1</td>\n",
       "    </tr>\n",
       "    <tr>\n",
       "      <th>3</th>\n",
       "      <td>Payment</td>\n",
       "      <td>Credit_card_repayment</td>\n",
       "      <td>Thu</td>\n",
       "      <td>14</td>\n",
       "      <td>1</td>\n",
       "      <td>85000000.0</td>\n",
       "      <td>262123</td>\n",
       "      <td>1</td>\n",
       "    </tr>\n",
       "    <tr>\n",
       "      <th>4</th>\n",
       "      <td>Payment</td>\n",
       "      <td>Credit_card_repayment</td>\n",
       "      <td>Mon</td>\n",
       "      <td>22</td>\n",
       "      <td>1</td>\n",
       "      <td>83000000.0</td>\n",
       "      <td>262123</td>\n",
       "      <td>1</td>\n",
       "    </tr>\n",
       "  </tbody>\n",
       "</table>\n",
       "</div>"
      ],
      "text/plain": [
       "  TRANS_LV1              TRANS_LV2 DAY_OF_WEEK  TRANS_HOUR  TRANS_NO  \\\n",
       "0  Transfer            Outside_VIB         Thu          17         2   \n",
       "1  Transfer            Outside_VIB         Mon          13         2   \n",
       "2  Transfer            Outside_VIB         Wed          15         1   \n",
       "3   Payment  Credit_card_repayment         Thu          14         1   \n",
       "4   Payment  Credit_card_repayment         Mon          22         1   \n",
       "\n",
       "   TRANS_AMOUNT  CUSTOMER_NUMBER  MONTH  \n",
       "0   189771864.0           701619      1  \n",
       "1    30224900.0           701619      7  \n",
       "2      100000.0           701619      1  \n",
       "3    85000000.0           262123      1  \n",
       "4    83000000.0           262123      1  "
      ]
     },
     "execution_count": 21,
     "metadata": {},
     "output_type": "execute_result"
    }
   ],
   "source": [
    "df_transaction.drop(columns='TRANS_DATE')\n"
   ]
  },
  {
   "cell_type": "code",
   "execution_count": 23,
   "id": "compliant-recall",
   "metadata": {},
   "outputs": [
    {
     "name": "stderr",
     "output_type": "stream",
     "text": [
      "<ipython-input-23-9fb1d5e3aca2>:1: FutureWarning: Indexing with multiple keys (implicitly converted to a tuple of keys) will be deprecated, use a list instead.\n",
      "  df_group_transaction = df_transaction.groupby(['MONTH','CUSTOMER_NUMBER'])['TRANS_AMOUNT','TRANS_HOUR'].sum()\n"
     ]
    },
    {
     "name": "stdout",
     "output_type": "stream",
     "text": [
      "                       TRANS_AMOUNT  TRANS_HOUR\n",
      "MONTH CUSTOMER_NUMBER                          \n",
      "1     6341             5.800000e+05          26\n",
      "      6489             6.000000e+05          12\n",
      "      7266             1.000000e+05           9\n",
      "      7913             4.003493e+06          32\n",
      "      8566             1.022800e+09         157\n",
      "...                             ...         ...\n",
      "12    999948           6.490000e+05          21\n",
      "      999959           5.810000e+06          63\n",
      "      999969           6.837000e+06         234\n",
      "      999972           2.500000e+06          32\n",
      "      999982           4.655000e+06           7\n",
      "\n",
      "[195473 rows x 2 columns]\n"
     ]
    }
   ],
   "source": [
    "df_group_transaction = df_transaction.groupby(['MONTH','CUSTOMER_NUMBER'])['TRANS_AMOUNT','TRANS_HOUR'].sum()\n",
    "print(df_group_transaction)"
   ]
  },
  {
   "cell_type": "code",
   "execution_count": 24,
   "id": "neural-forest",
   "metadata": {},
   "outputs": [
    {
     "name": "stdout",
     "output_type": "stream",
     "text": [
      "              MONTH  COUNT_CA_ACCT  AVG_CA_BALANCE  COUNT_TD_ACCT  \\\n",
      "0         1/31/2019              1       246774.19              0   \n",
      "1         2/28/2019              1       209207.36              0   \n",
      "2         3/31/2019              1       213225.90              0   \n",
      "3         4/30/2019              1       211761.87              0   \n",
      "4         5/31/2019              1       222391.16              0   \n",
      "...             ...            ...             ...            ...   \n",
      "1258419  12/31/2019              1        32258.06              0   \n",
      "1258420  12/31/2019              1        32258.16              0   \n",
      "1258421  12/31/2019              1        31903.23              0   \n",
      "1258422  12/31/2019              1         1612.90              2   \n",
      "1258423  12/31/2019              1        16129.03              0   \n",
      "\n",
      "         AVG_TD_BALANCE  CUSTOMER_NUMBER  \n",
      "0                  0.00           914393  \n",
      "1                  0.00           914393  \n",
      "2                  0.00           914393  \n",
      "3                  0.00           914393  \n",
      "4                  0.00           914393  \n",
      "...                 ...              ...  \n",
      "1258419            0.00           539614  \n",
      "1258420            0.00           877874  \n",
      "1258421            0.00            80041  \n",
      "1258422     41290322.58           409371  \n",
      "1258423            0.00           338810  \n",
      "\n",
      "[1258424 rows x 6 columns]\n"
     ]
    }
   ],
   "source": [
    "print(df_deposit)"
   ]
  },
  {
   "cell_type": "code",
   "execution_count": 25,
   "id": "contemporary-bunny",
   "metadata": {},
   "outputs": [],
   "source": [
    "df_deposit['MONTH']=pd.DatetimeIndex(df_deposit['MONTH']).month"
   ]
  },
  {
   "cell_type": "code",
   "execution_count": 33,
   "id": "informal-flesh",
   "metadata": {},
   "outputs": [
    {
     "data": {
      "text/html": [
       "<div>\n",
       "<style scoped>\n",
       "    .dataframe tbody tr th:only-of-type {\n",
       "        vertical-align: middle;\n",
       "    }\n",
       "\n",
       "    .dataframe tbody tr th {\n",
       "        vertical-align: top;\n",
       "    }\n",
       "\n",
       "    .dataframe thead th {\n",
       "        text-align: right;\n",
       "    }\n",
       "</style>\n",
       "<table border=\"1\" class=\"dataframe\">\n",
       "  <thead>\n",
       "    <tr style=\"text-align: right;\">\n",
       "      <th></th>\n",
       "      <th>MONTH</th>\n",
       "      <th>COUNT_CA_ACCT</th>\n",
       "      <th>AVG_CA_BALANCE</th>\n",
       "      <th>COUNT_TD_ACCT</th>\n",
       "      <th>AVG_TD_BALANCE</th>\n",
       "      <th>CUSTOMER_NUMBER</th>\n",
       "    </tr>\n",
       "  </thead>\n",
       "  <tbody>\n",
       "    <tr>\n",
       "      <th>0</th>\n",
       "      <td>1</td>\n",
       "      <td>1</td>\n",
       "      <td>246774.19</td>\n",
       "      <td>0</td>\n",
       "      <td>0.0</td>\n",
       "      <td>914393</td>\n",
       "    </tr>\n",
       "    <tr>\n",
       "      <th>1</th>\n",
       "      <td>2</td>\n",
       "      <td>1</td>\n",
       "      <td>209207.36</td>\n",
       "      <td>0</td>\n",
       "      <td>0.0</td>\n",
       "      <td>914393</td>\n",
       "    </tr>\n",
       "    <tr>\n",
       "      <th>2</th>\n",
       "      <td>3</td>\n",
       "      <td>1</td>\n",
       "      <td>213225.90</td>\n",
       "      <td>0</td>\n",
       "      <td>0.0</td>\n",
       "      <td>914393</td>\n",
       "    </tr>\n",
       "    <tr>\n",
       "      <th>3</th>\n",
       "      <td>4</td>\n",
       "      <td>1</td>\n",
       "      <td>211761.87</td>\n",
       "      <td>0</td>\n",
       "      <td>0.0</td>\n",
       "      <td>914393</td>\n",
       "    </tr>\n",
       "    <tr>\n",
       "      <th>4</th>\n",
       "      <td>5</td>\n",
       "      <td>1</td>\n",
       "      <td>222391.16</td>\n",
       "      <td>0</td>\n",
       "      <td>0.0</td>\n",
       "      <td>914393</td>\n",
       "    </tr>\n",
       "  </tbody>\n",
       "</table>\n",
       "</div>"
      ],
      "text/plain": [
       "   MONTH  COUNT_CA_ACCT  AVG_CA_BALANCE  COUNT_TD_ACCT  AVG_TD_BALANCE  \\\n",
       "0      1              1       246774.19              0             0.0   \n",
       "1      2              1       209207.36              0             0.0   \n",
       "2      3              1       213225.90              0             0.0   \n",
       "3      4              1       211761.87              0             0.0   \n",
       "4      5              1       222391.16              0             0.0   \n",
       "\n",
       "   CUSTOMER_NUMBER  \n",
       "0           914393  \n",
       "1           914393  \n",
       "2           914393  \n",
       "3           914393  \n",
       "4           914393  "
      ]
     },
     "execution_count": 33,
     "metadata": {},
     "output_type": "execute_result"
    }
   ],
   "source": [
    "df_deposit.head()"
   ]
  },
  {
   "cell_type": "code",
   "execution_count": 28,
   "id": "molecular-kentucky",
   "metadata": {},
   "outputs": [],
   "source": [
    "df_lending['MONTH']=pd.DatetimeIndex(df_lending['MONTH']).month"
   ]
  },
  {
   "cell_type": "code",
   "execution_count": 34,
   "id": "ranging-bosnia",
   "metadata": {},
   "outputs": [
    {
     "data": {
      "text/html": [
       "<div>\n",
       "<style scoped>\n",
       "    .dataframe tbody tr th:only-of-type {\n",
       "        vertical-align: middle;\n",
       "    }\n",
       "\n",
       "    .dataframe tbody tr th {\n",
       "        vertical-align: top;\n",
       "    }\n",
       "\n",
       "    .dataframe thead th {\n",
       "        text-align: right;\n",
       "    }\n",
       "</style>\n",
       "<table border=\"1\" class=\"dataframe\">\n",
       "  <thead>\n",
       "    <tr style=\"text-align: right;\">\n",
       "      <th></th>\n",
       "      <th>MONTH</th>\n",
       "      <th>COUNT_OF_LOAN</th>\n",
       "      <th>AVG_LOAN_AMOUNT</th>\n",
       "      <th>CUSTOMER_NUMBER</th>\n",
       "    </tr>\n",
       "  </thead>\n",
       "  <tbody>\n",
       "    <tr>\n",
       "      <th>0</th>\n",
       "      <td>1</td>\n",
       "      <td>1</td>\n",
       "      <td>15000000.0</td>\n",
       "      <td>811795</td>\n",
       "    </tr>\n",
       "    <tr>\n",
       "      <th>1</th>\n",
       "      <td>2</td>\n",
       "      <td>1</td>\n",
       "      <td>13450000.0</td>\n",
       "      <td>811795</td>\n",
       "    </tr>\n",
       "    <tr>\n",
       "      <th>2</th>\n",
       "      <td>4</td>\n",
       "      <td>1</td>\n",
       "      <td>14169673.0</td>\n",
       "      <td>811795</td>\n",
       "    </tr>\n",
       "    <tr>\n",
       "      <th>3</th>\n",
       "      <td>3</td>\n",
       "      <td>1</td>\n",
       "      <td>12901665.0</td>\n",
       "      <td>811795</td>\n",
       "    </tr>\n",
       "    <tr>\n",
       "      <th>4</th>\n",
       "      <td>9</td>\n",
       "      <td>1</td>\n",
       "      <td>13274815.0</td>\n",
       "      <td>811795</td>\n",
       "    </tr>\n",
       "  </tbody>\n",
       "</table>\n",
       "</div>"
      ],
      "text/plain": [
       "   MONTH  COUNT_OF_LOAN  AVG_LOAN_AMOUNT  CUSTOMER_NUMBER\n",
       "0      1              1       15000000.0           811795\n",
       "1      2              1       13450000.0           811795\n",
       "2      4              1       14169673.0           811795\n",
       "3      3              1       12901665.0           811795\n",
       "4      9              1       13274815.0           811795"
      ]
     },
     "execution_count": 34,
     "metadata": {},
     "output_type": "execute_result"
    }
   ],
   "source": [
    "df_lending.head()"
   ]
  },
  {
   "cell_type": "code",
   "execution_count": 31,
   "id": "ordinary-reservation",
   "metadata": {},
   "outputs": [],
   "source": [
    "df_card['MONTH']=pd.DatetimeIndex(df_card['MONTH']).month"
   ]
  },
  {
   "cell_type": "code",
   "execution_count": 35,
   "id": "scientific-palace",
   "metadata": {},
   "outputs": [
    {
     "data": {
      "text/html": [
       "<div>\n",
       "<style scoped>\n",
       "    .dataframe tbody tr th:only-of-type {\n",
       "        vertical-align: middle;\n",
       "    }\n",
       "\n",
       "    .dataframe tbody tr th {\n",
       "        vertical-align: top;\n",
       "    }\n",
       "\n",
       "    .dataframe thead th {\n",
       "        text-align: right;\n",
       "    }\n",
       "</style>\n",
       "<table border=\"1\" class=\"dataframe\">\n",
       "  <thead>\n",
       "    <tr style=\"text-align: right;\">\n",
       "      <th></th>\n",
       "      <th>MONTH</th>\n",
       "      <th>COUNT_CREDITCARD</th>\n",
       "      <th>COUNT_DEBITCARD</th>\n",
       "      <th>CUSTOMER_NUMBER</th>\n",
       "    </tr>\n",
       "  </thead>\n",
       "  <tbody>\n",
       "    <tr>\n",
       "      <th>0</th>\n",
       "      <td>9</td>\n",
       "      <td>0</td>\n",
       "      <td>1</td>\n",
       "      <td>914326</td>\n",
       "    </tr>\n",
       "    <tr>\n",
       "      <th>1</th>\n",
       "      <td>4</td>\n",
       "      <td>0</td>\n",
       "      <td>1</td>\n",
       "      <td>914326</td>\n",
       "    </tr>\n",
       "    <tr>\n",
       "      <th>2</th>\n",
       "      <td>11</td>\n",
       "      <td>0</td>\n",
       "      <td>1</td>\n",
       "      <td>914326</td>\n",
       "    </tr>\n",
       "    <tr>\n",
       "      <th>3</th>\n",
       "      <td>8</td>\n",
       "      <td>0</td>\n",
       "      <td>1</td>\n",
       "      <td>914326</td>\n",
       "    </tr>\n",
       "    <tr>\n",
       "      <th>4</th>\n",
       "      <td>12</td>\n",
       "      <td>0</td>\n",
       "      <td>1</td>\n",
       "      <td>914326</td>\n",
       "    </tr>\n",
       "  </tbody>\n",
       "</table>\n",
       "</div>"
      ],
      "text/plain": [
       "   MONTH  COUNT_CREDITCARD  COUNT_DEBITCARD  CUSTOMER_NUMBER\n",
       "0      9                 0                1           914326\n",
       "1      4                 0                1           914326\n",
       "2     11                 0                1           914326\n",
       "3      8                 0                1           914326\n",
       "4     12                 0                1           914326"
      ]
     },
     "execution_count": 35,
     "metadata": {},
     "output_type": "execute_result"
    }
   ],
   "source": [
    "df_card.head()"
   ]
  },
  {
   "cell_type": "code",
   "execution_count": 36,
   "id": "approved-testing",
   "metadata": {},
   "outputs": [],
   "source": [
    "# concatenate data\n",
    "dfs = [df_customer,df_group_activity,df_group_transaction,df_deposit,df_lending,df_card]\n",
    "\n",
    "df_merge = pd.concat(dfs)"
   ]
  },
  {
   "cell_type": "code",
   "execution_count": 38,
   "id": "recognized-bench",
   "metadata": {},
   "outputs": [
    {
     "name": "stdout",
     "output_type": "stream",
     "text": [
      "<class 'pandas.core.frame.DataFrame'>\n",
      "Index: 3513809 entries, 0 to 871588\n",
      "Data columns (total 21 columns):\n",
      " #   Column               Dtype  \n",
      "---  ------               -----  \n",
      " 0   0                    float64\n",
      " 1   AVG_CA_BALANCE       float64\n",
      " 2   AVG_LOAN_AMOUNT      float64\n",
      " 3   AVG_TD_BALANCE       float64\n",
      " 4   CLIENT_CREATE_DATE   object \n",
      " 5   CLIENT_SEX           object \n",
      " 6   COUNT_CA_ACCT        float64\n",
      " 7   COUNT_CREDITCARD     float64\n",
      " 8   COUNT_DEBITCARD      float64\n",
      " 9   COUNT_OF_LOAN        float64\n",
      " 10  COUNT_TD_ACCT        float64\n",
      " 11  CUSTOMER_NUMBER      float64\n",
      " 12  DATE_OF_BIRTH        object \n",
      " 13  EB_REGISTER_CHANNEL  object \n",
      " 14  IB_REGISTER_DATE     object \n",
      " 15  MONTH                float64\n",
      " 16  SMS                  object \n",
      " 17  STAFF_VIB            object \n",
      " 18  TRANS_AMOUNT         float64\n",
      " 19  TRANS_HOUR           float64\n",
      " 20  VERIFY_METHOD        object \n",
      "dtypes: float64(13), object(8)\n",
      "memory usage: 589.8+ MB\n",
      "None\n"
     ]
    }
   ],
   "source": [
    "print(df_merge.info())"
   ]
  },
  {
   "cell_type": "code",
   "execution_count": 39,
   "id": "widespread-worcester",
   "metadata": {},
   "outputs": [],
   "source": [
    "df_merge.to_csv(r'E:\\VTCAI\\Final_Project\\Track 1 Datarathon\\df_merge.csv')"
   ]
  },
  {
   "cell_type": "code",
   "execution_count": 41,
   "id": "falling-korean",
   "metadata": {},
   "outputs": [
    {
     "data": {
      "text/plain": [
       "0                      3192140\n",
       "AVG_CA_BALANCE         2255385\n",
       "AVG_LOAN_AMOUNT        2937378\n",
       "AVG_TD_BALANCE         2255385\n",
       "CLIENT_CREATE_DATE     3223586\n",
       "CLIENT_SEX             3227869\n",
       "COUNT_CA_ACCT          2255385\n",
       "COUNT_CREDITCARD       2642220\n",
       "COUNT_DEBITCARD        2642220\n",
       "COUNT_OF_LOAN          2937378\n",
       "COUNT_TD_ACCT          2255385\n",
       "CUSTOMER_NUMBER         517142\n",
       "DATE_OF_BIRTH          3227875\n",
       "EB_REGISTER_CHANNEL    3354834\n",
       "IB_REGISTER_DATE       3354834\n",
       "MONTH                   807365\n",
       "SMS                    3354834\n",
       "STAFF_VIB              3223586\n",
       "TRANS_AMOUNT           3318336\n",
       "TRANS_HOUR             3318336\n",
       "VERIFY_METHOD          3354862\n",
       "dtype: int64"
      ]
     },
     "execution_count": 41,
     "metadata": {},
     "output_type": "execute_result"
    }
   ],
   "source": [
    "df_merge.isnull().sum()"
   ]
  },
  {
   "cell_type": "code",
   "execution_count": 43,
   "id": "behavioral-partnership",
   "metadata": {},
   "outputs": [
    {
     "name": "stdout",
     "output_type": "stream",
     "text": [
      "100.0\n"
     ]
    }
   ],
   "source": [
    "\n"
   ]
  },
  {
   "cell_type": "code",
   "execution_count": null,
   "id": "composed-kazakhstan",
   "metadata": {},
   "outputs": [],
   "source": []
  }
 ],
 "metadata": {
  "kernelspec": {
   "display_name": "Python 3",
   "language": "python",
   "name": "python3"
  },
  "language_info": {
   "codemirror_mode": {
    "name": "ipython",
    "version": 3
   },
   "file_extension": ".py",
   "mimetype": "text/x-python",
   "name": "python",
   "nbconvert_exporter": "python",
   "pygments_lexer": "ipython3",
   "version": "3.9.1"
  }
 },
 "nbformat": 4,
 "nbformat_minor": 5
}
